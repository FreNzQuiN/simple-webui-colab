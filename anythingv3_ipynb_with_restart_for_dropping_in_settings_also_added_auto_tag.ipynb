{
  "nbformat": 4,
  "nbformat_minor": 0,
  "metadata": {
    "colab": {
      "provenance": [],
      "include_colab_link": true
    },
    "kernelspec": {
      "name": "python3",
      "display_name": "Python 3"
    },
    "language_info": {
      "name": "python"
    },
    "accelerator": "GPU",
    "gpuClass": "standard"
  },
  "cells": [
    {
      "cell_type": "markdown",
      "metadata": {
        "id": "view-in-github",
        "colab_type": "text"
      },
      "source": [
        "<a href=\"https://colab.research.google.com/github/HyperLemons/fastest-stablediffusion-collab-webui/blob/main/anythingv3_ipynb_with_restart_for_dropping_in_settings_also_added_auto_tag.ipynb\" target=\"_parent\"><img src=\"https://colab.research.google.com/assets/colab-badge.svg\" alt=\"Open In Colab\"/></a>"
      ]
    },
    {
      "cell_type": "code",
      "source": [
        "!git clone https://github.com/AUTOMATIC1111/stable-diffusion-webui\n",
        "!git clone https://github.com/yfszzx/stable-diffusion-webui-images-browser /content/stable-diffusion-webui/extensions/stable-diffusion-webui-images-browser\n",
        "!git clone \"https://github.com/DominikDoom/a1111-sd-webui-tagcomplete.git\" /content/stable-diffusion-webui/extensions/tag-autocomplete\n",
        "%pip install -q https://github.com/nolanaatama/sd-webui/releases/download/xformers/xformers-0.0.15+e163309.d20230103-cp38-cp38-linux_x86_64.whl\n",
        "!curl -Lo anythingv3.ckpt https://huggingface.co/Linaqruf/anything-v3.0/resolve/main/Anything-V3.0-pruned-fp32.ckpt\n",
        "!curl -Lo anythingv3.vae.pt https://huggingface.co/Linaqruf/anything-v3.0/resolve/main/Anything-V3.0.vae.pt\n",
        "!mv \"/content/anythingv3.ckpt\" \"/content/stable-diffusion-webui/models/Stable-diffusion\"\n",
        "!mv \"/content/anythingv3.vae.pt\" \"/content/stable-diffusion-webui/models/Stable-diffusion\"\n",
        "%cd /content/stable-diffusion-webui\n",
        "!git checkout 11d432d # temporary fix\n",
        "!COMMANDLINE_ARGS=\"--share --gradio-debug --medvram --disable-safe-unpickle --xformers --no-half-vae\" REQS_FILE=\"requirements.txt\" python launch.py"
      ],
      "metadata": {
        "id": "sBbcB4vwj_jm"
      },
      "execution_count": null,
      "outputs": []
    },
    {
      "cell_type": "code",
      "source": [
        "## remove stock config\n",
        "!rm /content/stable-diffusion-webui/ui-config.json\n",
        "!rm /content/stable-diffusion-webui/config.json"
      ],
      "metadata": {
        "id": "ANT3CuYsTYr8"
      },
      "execution_count": null,
      "outputs": []
    },
    {
      "cell_type": "code",
      "execution_count": null,
      "metadata": {
        "id": "3xdPbMujWYJ8"
      },
      "outputs": [],
      "source": [
        "## load google drive into instance\n",
        "\n",
        "from google.colab import drive\n",
        "drive.mount('/content/gdrive')"
      ]
    },
    {
      "cell_type": "code",
      "source": [
        "# load new config\n",
        "\n",
        "!cp \"/content/gdrive/MyDrive/for_webui_colab/ui-config.json\" \"/content/stable-diffusion-webui/\"\n",
        "!cp \"/content/gdrive/MyDrive/for_webui_colab/config.json\" \"/content/stable-diffusion-webui/\"\n"
      ],
      "metadata": {
        "id": "Hu_vWtpHWeEI"
      },
      "execution_count": null,
      "outputs": []
    },
    {
      "cell_type": "code",
      "source": [
        "## run after loading new config ## CHANGE Sampling Steps to 28 in WEB UI AFTER RUNNING!!! Still haven't figured out why this won't change....\n",
        "\n",
        "!git checkout 11d432d # temporary fix\n",
        "!COMMANDLINE_ARGS=\"--share --gradio-debug --medvram --disable-safe-unpickle --xformers --no-half-vae\" REQS_FILE=\"requirements.txt\" python launch.py"
      ],
      "metadata": {
        "id": "_oSKOp43Sr2H"
      },
      "execution_count": null,
      "outputs": []
    },
    {
      "cell_type": "markdown",
      "metadata": {
        "id": "fhwIXzcgfkoR"
      },
      "source": [
        "# 📚 GitHub for more: [_@nolanaatama_](https://github.com/nolanaatama)\n",
        "# 📦 Repo: [Github](https://github.com/nolanaatama/sd-anythingv3-colab)"
      ]
    }
  ]
}